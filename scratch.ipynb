{
 "cells": [
  {
   "cell_type": "code",
   "execution_count": 14,
   "id": "bfb98a3a",
   "metadata": {},
   "outputs": [],
   "source": [
    "from collections import Counter\n",
    "\n",
    "def freq_suitList(text):\n",
    "\n",
    "    lowercase_chars = [char for char in text if char.islower()]\n",
    "    \n",
    "    if not lowercase_chars:\n",
    "        return []\n",
    "    \n",
    "    counter = Counter(lowercase_chars)\n",
    "    # Extract just the characters from most_common()\n",
    "    return [char for char, count in counter.most_common()]\n",
    "\n"
   ]
  },
  {
   "cell_type": "code",
   "execution_count": null,
   "id": "8217d636",
   "metadata": {},
   "outputs": [],
   "source": []
  },
  {
   "cell_type": "code",
   "execution_count": 2,
   "id": "177909de",
   "metadata": {},
   "outputs": [
    {
     "name": "stdout",
     "output_type": "stream",
     "text": [
      "d\n",
      "AdAs\n",
      "['d', 's'] fail\n",
      "['d', 'h'] fail\n",
      "['d', 'c'] fail\n",
      "['s', 'h'] fail\n",
      "['s', 'c'] fail\n",
      "['h', 'c'] fail\n",
      "fail: invalid hole cards\n",
      "['Null', 'AdKs', 'AdQs', 'AdJs', 'AdTs', 'Ad9s', 'Ad8s', 'Ad7s', 'Ad6s', 'Ad5s', 'Ad4s', 'Ad3s', 'Ad2s']\n"
     ]
    }
   ],
   "source": [
    "board = 'AsAcAh'\n",
    "eq_Aces = []\n",
    "xs= ['d', 's']\n",
    "OppList = ['AA', 'AK', 'AQ', 'AJ', 'AT', 'A9', 'A8', 'A7', 'A6', 'A5', 'A4', 'A3', 'A2']\n",
    "offsuitCombo = [['d','s'], ['d','h'], ['d','c'], ['s','h'], ['s','c'], ['h','c'], ['f','f']]\n",
    "\n",
    "print(offsuitCombo[0][0])\n",
    "\n",
    "for x in OppList:\n",
    "    if (x[:1] + xs[0]) in board or (x[1:] + xs[1]) in board:\n",
    "        print(x[:1] + xs[0] + x[1:] + xs[1])\n",
    "        for y in offsuitCombo:\n",
    "            if y[0] == 'f':\n",
    "                print('fail: invalid hole cards')\n",
    "                eq_Aces.append('Null')\n",
    "                break\n",
    "\n",
    "            if (x[:1] + y[0]) not in board and (x[1:] + y[1]) not in board:\n",
    "                print(x[:1] + y[0] + x[1:] + y[1])\n",
    "                eq_Aces.append(x[:1] + y[0] + x[1:] + y[1])\n",
    "                print(str(y) + ' success')\n",
    "                break\n",
    "            else:\n",
    "                print(str(y) + ' fail')\n",
    "    else:\n",
    "        eq_Aces.append(x[:1] + xs[0] + x[1:] + xs[1])\n",
    "\n",
    "print(eq_Aces)\n"
   ]
  },
  {
   "cell_type": "markdown",
   "id": "c54914ee",
   "metadata": {},
   "source": []
  }
 ],
 "metadata": {
  "kernelspec": {
   "display_name": "Python 3",
   "language": "python",
   "name": "python3"
  },
  "language_info": {
   "codemirror_mode": {
    "name": "ipython",
    "version": 3
   },
   "file_extension": ".py",
   "mimetype": "text/x-python",
   "name": "python",
   "nbconvert_exporter": "python",
   "pygments_lexer": "ipython3",
   "version": "3.11.13"
  }
 },
 "nbformat": 4,
 "nbformat_minor": 5
}
